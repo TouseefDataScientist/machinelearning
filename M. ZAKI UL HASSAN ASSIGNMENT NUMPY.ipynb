{
 "cells": [
  {
   "cell_type": "markdown",
   "id": "db100b71",
   "metadata": {},
   "source": [
    "## Create a 1D array, a 2D array, and a 3D array."
   ]
  },
  {
   "cell_type": "code",
   "execution_count": 71,
   "id": "7c1305e9",
   "metadata": {},
   "outputs": [],
   "source": [
    "import numpy as np\n",
    "import pandas as pd"
   ]
  },
  {
   "cell_type": "code",
   "execution_count": 4,
   "id": "2e915d13",
   "metadata": {},
   "outputs": [
    {
     "name": "stdout",
     "output_type": "stream",
     "text": [
      "[1 2 3 4 5]\n"
     ]
    }
   ],
   "source": [
    "array1d = np.array([1,2,3,4,5])\n",
    "print(array1d)"
   ]
  },
  {
   "cell_type": "code",
   "execution_count": 8,
   "id": "d9c9926e",
   "metadata": {},
   "outputs": [
    {
     "name": "stdout",
     "output_type": "stream",
     "text": [
      "[[1 2]\n",
      " [3 4]]\n"
     ]
    }
   ],
   "source": [
    "# 2D array\n",
    "array2d = np.array([[1,2],[3,4]])\n",
    "print(array2d)"
   ]
  },
  {
   "cell_type": "code",
   "execution_count": 102,
   "id": "f1561e31",
   "metadata": {},
   "outputs": [
    {
     "name": "stdout",
     "output_type": "stream",
     "text": [
      "[[1 2 3]\n",
      " [4 5 6]\n",
      " [7 8 9]]\n"
     ]
    }
   ],
   "source": [
    "# 3D array\n",
    "array3d = np.array([[1,2,3],[4,5,6],[7,8,9]])\n",
    "print(array3d)"
   ]
  },
  {
   "cell_type": "markdown",
   "id": "1c01d037",
   "metadata": {},
   "source": [
    "### Create arrays using different functions: arange, linspace, zeros, ones, eye, random."
   ]
  },
  {
   "cell_type": "code",
   "execution_count": 14,
   "id": "7717728a",
   "metadata": {},
   "outputs": [
    {
     "name": "stdout",
     "output_type": "stream",
     "text": [
      "[ 1  2  3  4  5  6  7  8  9 10]\n",
      "10\n"
     ]
    }
   ],
   "source": [
    "array_using_arange = np.arange(1,11)\n",
    "print(array_using_arange)\n",
    "print(len(array_using_arange))"
   ]
  },
  {
   "cell_type": "code",
   "execution_count": 16,
   "id": "6dd0b829",
   "metadata": {},
   "outputs": [],
   "source": [
    "# array_using_linespace = np.linespace(11,21)\n",
    "# print(array_using_linespace)\n",
    "# print(len(array_using_linespace))"
   ]
  },
  {
   "cell_type": "code",
   "execution_count": 23,
   "id": "86382c21",
   "metadata": {},
   "outputs": [
    {
     "name": "stdout",
     "output_type": "stream",
     "text": [
      "[0. 0. 0. 0.]\n",
      "[[0. 0. 0. 0.]\n",
      " [0. 0. 0. 0.]\n",
      " [0. 0. 0. 0.]\n",
      " [0. 0. 0. 0.]\n",
      " [0. 0. 0. 0.]]\n"
     ]
    }
   ],
   "source": [
    "array_of_zeros_1d = np.zeros(4)\n",
    "print(array_of_zeros)\n",
    "array_of_zeros_2d = np.zeros((5,4))\n",
    "print(array_of_zeros_2d)"
   ]
  },
  {
   "cell_type": "code",
   "execution_count": 25,
   "id": "4de65864",
   "metadata": {},
   "outputs": [
    {
     "name": "stdout",
     "output_type": "stream",
     "text": [
      "[1. 1. 1. 1.]\n",
      "[[1. 1. 1. 1.]\n",
      " [1. 1. 1. 1.]\n",
      " [1. 1. 1. 1.]\n",
      " [1. 1. 1. 1.]\n",
      " [1. 1. 1. 1.]]\n"
     ]
    }
   ],
   "source": [
    "array_of_ones_1d = np.ones(4)\n",
    "print(array_of_ones_1d)\n",
    "array_of_ones_2d = np.ones((5,4))\n",
    "print(array_of_ones_2d)"
   ]
  },
  {
   "cell_type": "code",
   "execution_count": 40,
   "id": "be9d40cf",
   "metadata": {},
   "outputs": [
    {
     "name": "stdout",
     "output_type": "stream",
     "text": [
      "[0.35185738 0.50006647 0.59399534 0.9885128  0.4686805 ]\n",
      "array brfore reshape\n",
      "[[0.36569729 0.92465468 0.97250799 0.87492217]\n",
      " [0.26481017 0.20172303 0.58387723 0.8625639 ]\n",
      " [0.64009895 0.7275495  0.66233848 0.25005749]]\n",
      "array after reshape in 2 array with 6 elements \n",
      "[[0.36569729 0.92465468 0.97250799 0.87492217 0.26481017 0.20172303]\n",
      " [0.58387723 0.8625639  0.64009895 0.7275495  0.66233848 0.25005749]]\n"
     ]
    }
   ],
   "source": [
    "array_of_random = np.random.rand(5)\n",
    "print(array_of_random)\n",
    "# if we write a number in rand function it will generate values of that number \n",
    "# and if we write (2,3) then it means that it will generate 2 array of 3 elements as a whole\n",
    "three_array_of_random = np.random.rand(3,4)\n",
    "print(f'array brfore reshape\\n{three_array_of_random}')\n",
    "three_array_of_random = three_array_of_random.reshape(2,6)\n",
    "print(f\"array after reshape in 2 array with 6 elements \\n{three_array_of_random}\")"
   ]
  },
  {
   "cell_type": "markdown",
   "id": "cbf892cf",
   "metadata": {},
   "source": [
    "## Concatenate and split arrays."
   ]
  },
  {
   "cell_type": "code",
   "execution_count": 56,
   "id": "83cba775",
   "metadata": {},
   "outputs": [
    {
     "name": "stdout",
     "output_type": "stream",
     "text": [
      "0.3162265988109504\n",
      "[0.94728015 0.02676774 0.65305161 0.97653336 0.6833862  0.23427374]\n",
      "if we want to concatenate two array\n",
      "we have to keep in mind that all arrays should be in same size\n",
      "sum of\n",
      "0.3162265988109504 \n",
      "and\n",
      "[0.94728015 0.02676774 0.65305161 0.97653336 0.6833862  0.23427374] \n",
      "is\n",
      "[1.26350675 0.34299434 0.96927821 1.29275996 0.9996128  0.55050034]\n"
     ]
    }
   ],
   "source": [
    "array1 = np.random.rand()\n",
    "print(array1)\n",
    "array2 = np.random.rand(6)\n",
    "print(array2)\n",
    "print('if we want to concatenate two array\\nwe have to keep in mind that all arrays should be in same size')\n",
    "sum_of_arrays = array1+array2\n",
    "print(f'sum of\\n{array1} \\nand\\n{array2} \\nis\\n{sum_of_arrays}')\n"
   ]
  },
  {
   "cell_type": "code",
   "execution_count": 62,
   "id": "6846a402",
   "metadata": {},
   "outputs": [
    {
     "name": "stdout",
     "output_type": "stream",
     "text": [
      "[array([1, 2, 3, 4, 5]), array([ 6,  7,  8,  9, 10])]\n"
     ]
    }
   ],
   "source": [
    "split_array = np.split(array_using_arange, 2)\n",
    "print(split_array)"
   ]
  },
  {
   "cell_type": "markdown",
   "id": "4102e639",
   "metadata": {},
   "source": [
    "# Statistical Operations"
   ]
  },
  {
   "cell_type": "code",
   "execution_count": 64,
   "id": "b2dfcac3",
   "metadata": {},
   "outputs": [
    {
     "name": "stdout",
     "output_type": "stream",
     "text": [
      "the mean of the array is 3.0\n",
      "the mean of the array is 3.0\n",
      "the std of the array is 1.4142135623730951\n",
      "the variance of the array is 2.0\n"
     ]
    }
   ],
   "source": [
    "# mean of array\n",
    "print(f'the mean of the array is {np.mean(array1d)}')\n",
    "# median of array\n",
    "print(f'the mean of the array is {np.median(array1d)}')\n",
    "# mean of array\n",
    "print(f'the std of the array is {np.std(array1d)}')\n",
    "# variance of array\n",
    "print(f'the variance of the array is {np.var(array1d)}')"
   ]
  },
  {
   "cell_type": "code",
   "execution_count": 75,
   "id": "6428f9da",
   "metadata": {},
   "outputs": [
    {
     "name": "stdout",
     "output_type": "stream",
     "text": [
      "[ 1  2  3  4  5  6  7  8  9 10]\n",
      "the minimum value in the array is\n",
      "1\n",
      "the maximum value in the array is\n",
      "10\n"
     ]
    }
   ],
   "source": [
    "# the minimum and maximum values in an array along with their indices.\n",
    "print(array_using_arange)\n",
    "print(f'the minimum value in the array is\\n{np.min(array_using_arange)}')\n",
    "print(f'the maximum value in the array is\\n{np.max(array_using_arange)}')"
   ]
  },
  {
   "cell_type": "code",
   "execution_count": 78,
   "id": "363e3e29",
   "metadata": {},
   "outputs": [
    {
     "name": "stdout",
     "output_type": "stream",
     "text": [
      "[ 1  2  3  4  5  6  7  8  9 10]\n",
      "the sum of the array is 55\n"
     ]
    }
   ],
   "source": [
    "sum_of_array = np.sum(array_using_arange)\n",
    "print(array_using_arange)\n",
    "print(f'the sum of the array is {sum_of_array}')"
   ]
  },
  {
   "cell_type": "markdown",
   "id": "c13cf715",
   "metadata": {},
   "source": [
    "## Broadcasting"
   ]
  },
  {
   "cell_type": "code",
   "execution_count": 80,
   "id": "65aef0f7",
   "metadata": {},
   "outputs": [
    {
     "name": "stdout",
     "output_type": "stream",
     "text": [
      "[ 2  4  6  8 10 12 14 16 18 20]\n"
     ]
    }
   ],
   "source": [
    "broadcast_mul2 = 2*(array_using_arange)\n",
    "print(broadcast_mul2)"
   ]
  },
  {
   "cell_type": "code",
   "execution_count": 83,
   "id": "0ade9bfe",
   "metadata": {},
   "outputs": [
    {
     "name": "stdout",
     "output_type": "stream",
     "text": [
      "[2.         1.         0.66666667 0.5        0.4        0.33333333\n",
      " 0.28571429 0.25       0.22222222 0.2       ]\n"
     ]
    }
   ],
   "source": [
    "broadcastdiv2 = 2/array_using_arange\n",
    "print(broadcastdiv2)"
   ]
  },
  {
   "cell_type": "markdown",
   "id": "bc4b18e6",
   "metadata": {},
   "source": [
    "## Linear Algebra"
   ]
  },
  {
   "cell_type": "markdown",
   "id": "c90389f8",
   "metadata": {},
   "source": [
    "### Perform matrix multiplication."
   ]
  },
  {
   "cell_type": "code",
   "execution_count": 88,
   "id": "66fa4229",
   "metadata": {},
   "outputs": [
    {
     "name": "stdout",
     "output_type": "stream",
     "text": [
      "[[1 2 3]\n",
      " [4 5 6]\n",
      " [7 8 9]]\n"
     ]
    }
   ],
   "source": [
    "print(array3d)"
   ]
  },
  {
   "cell_type": "code",
   "execution_count": 90,
   "id": "48321461",
   "metadata": {},
   "outputs": [
    {
     "name": "stdout",
     "output_type": "stream",
     "text": [
      "[[ 3  6  9]\n",
      " [12 15 18]\n",
      " [21 24 27]]\n"
     ]
    }
   ],
   "source": [
    "mul_3d_array = 3*array3d\n",
    "print(mul_3d_array)"
   ]
  },
  {
   "cell_type": "code",
   "execution_count": 97,
   "id": "a7ad82ff",
   "metadata": {},
   "outputs": [
    {
     "name": "stdout",
     "output_type": "stream",
     "text": [
      "the determinant of the\n",
      "[[1 2 3]\n",
      " [4 5 6]\n",
      " [7 8 9]]\n",
      "is -9.51619735392994e-16\n"
     ]
    }
   ],
   "source": [
    "determinant_3d_array = np.linalg.det(array3d)\n",
    "print(f\"the determinant of the\\n{array3d}\\nis {determinant_3d_array}\")"
   ]
  },
  {
   "cell_type": "code",
   "execution_count": 100,
   "id": "aaae1161",
   "metadata": {},
   "outputs": [
    {
     "name": "stdout",
     "output_type": "stream",
     "text": [
      "[[ 3.15251974e+15 -6.30503948e+15  3.15251974e+15]\n",
      " [-6.30503948e+15  1.26100790e+16 -6.30503948e+15]\n",
      " [ 3.15251974e+15 -6.30503948e+15  3.15251974e+15]]\n"
     ]
    }
   ],
   "source": [
    "inverse_3d_array = np.linalg.inv(array3d)\n",
    "print(inverse_3d_array)\n",
    "# print(f\"the determinant of the\\n{array3d}\\nis {determinant_3d_array}\")"
   ]
  },
  {
   "cell_type": "code",
   "execution_count": 105,
   "id": "7cb60507",
   "metadata": {},
   "outputs": [
    {
     "name": "stdout",
     "output_type": "stream",
     "text": [
      "EigResult(eigenvalues=array([ 1.61168440e+01, -1.11684397e+00, -3.38433605e-16]), eigenvectors=array([[-0.23197069, -0.78583024,  0.40824829],\n",
      "       [-0.52532209, -0.08675134, -0.81649658],\n",
      "       [-0.8186735 ,  0.61232756,  0.40824829]]))\n"
     ]
    }
   ],
   "source": [
    "eigen_3d_array = np.linalg.eig(array3d)\n",
    "print(eigen_3d_array)"
   ]
  },
  {
   "cell_type": "code",
   "execution_count": null,
   "id": "e4044a34",
   "metadata": {},
   "outputs": [],
   "source": []
  }
 ],
 "metadata": {
  "kernelspec": {
   "display_name": "Python 3 (ipykernel)",
   "language": "python",
   "name": "python3"
  },
  "language_info": {
   "codemirror_mode": {
    "name": "ipython",
    "version": 3
   },
   "file_extension": ".py",
   "mimetype": "text/x-python",
   "name": "python",
   "nbconvert_exporter": "python",
   "pygments_lexer": "ipython3",
   "version": "3.11.7"
  }
 },
 "nbformat": 4,
 "nbformat_minor": 5
}
