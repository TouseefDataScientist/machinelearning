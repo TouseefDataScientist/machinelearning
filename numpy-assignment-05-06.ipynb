{
 "cells": [
  {
   "cell_type": "markdown",
   "metadata": {},
   "source": [
    "# Assignment Numpy"
   ]
  },
  {
   "cell_type": "markdown",
   "metadata": {},
   "source": [
    "## Basic Array Operations"
   ]
  },
  {
   "cell_type": "code",
   "execution_count": 2,
   "metadata": {},
   "outputs": [
    {
     "name": "stdout",
     "output_type": "stream",
     "text": [
      "[2 3 4 5 6] [[4 3 5 9 7]\n",
      " [3 6 7 2 5]] [[2 3 4 4 5]\n",
      " [3 4 5 6 2]\n",
      " [3 6 7 5 3]]\n"
     ]
    }
   ],
   "source": [
    "import numpy as np\n",
    "# Create a 1D array, a 2D array, and a 3D array.\n",
    "arr1D = np.array([2, 3, 4, 5, 6])\n",
    "arr2D = np.array([[4, 3, 5, 9, 7], [3, 6, 7, 2, 5]])\n",
    "arr3D = np.array([[2, 3, 4, 4, 5], [3, 4, 5, 6,2], [3,6, 7, 5, 3]])\n",
    "\n",
    "print(arr1D, arr2D, arr3D)\n"
   ]
  },
  {
   "cell_type": "code",
   "execution_count": 3,
   "metadata": {},
   "outputs": [
    {
     "data": {
      "text/plain": [
       "array([3, 5])"
      ]
     },
     "execution_count": 3,
     "metadata": {},
     "output_type": "execute_result"
    }
   ],
   "source": [
    "# Perform slicing operations on arrays.\n",
    "arr1D[1:4:2]"
   ]
  },
  {
   "cell_type": "code",
   "execution_count": 4,
   "metadata": {},
   "outputs": [
    {
     "name": "stdout",
     "output_type": "stream",
     "text": [
      "[[0.5  0.75 1.   1.   1.25]\n",
      " [0.75 1.   1.25 1.5  0.5 ]\n",
      " [0.75 1.5  1.75 1.25 0.75]]\n"
     ]
    }
   ],
   "source": [
    "# Perform basic arithmetic operations on arrays (addition, subtraction, multiplication, division).\n",
    "add_arrays = np.array([3, 5, 7, -5, 3]) + arr1D\n",
    "sub_arrays = add_arrays - np.array([4, 2, 4, 0, -3])\n",
    "mul_arrays = arr2D * 3\n",
    "div_arrays = arr3D / 4\n",
    "\n",
    "print(div_arrays)\n"
   ]
  },
  {
   "cell_type": "markdown",
   "metadata": {},
   "source": [
    "## Array Creation and Manipulation"
   ]
  },
  {
   "cell_type": "code",
   "execution_count": 5,
   "metadata": {},
   "outputs": [
    {
     "name": "stdout",
     "output_type": "stream",
     "text": [
      "[[0.86215576 0.46897106 0.77289464 0.46636228]\n",
      " [0.72805082 0.70430956 0.01030797 0.12391474]\n",
      " [0.5282575  0.39232962 0.01806517 0.44756274]]\n"
     ]
    }
   ],
   "source": [
    "# Create arrays using different functions: arange, linspace, zeros, ones, eye, random.\n",
    "arr_arange = np.arange(3, 40, 3)\n",
    "arr_linspc = np.linspace(1.2, 40.8, 6)\n",
    "arr_zeros = np.zeros((3, 4))\n",
    "arr_eye = np.eye(4, dtype=int)\n",
    "arr_rand = np.random.rand(3, 4)\n",
    "\n",
    "print(arr_rand)"
   ]
  },
  {
   "cell_type": "code",
   "execution_count": 6,
   "metadata": {},
   "outputs": [
    {
     "data": {
      "text/plain": [
       "array([[  2,  34,   5],\n",
       "       [  5,  23,  53],\n",
       "       [ 56, -34,  54]])"
      ]
     },
     "execution_count": 6,
     "metadata": {},
     "output_type": "execute_result"
    }
   ],
   "source": [
    "# Reshape an array.\n",
    "arr = np.array([2, 34, 5, 5, 23, 53, 56, -34, 54])\n",
    "arr.reshape(3, 3)"
   ]
  },
  {
   "cell_type": "code",
   "execution_count": 7,
   "metadata": {},
   "outputs": [
    {
     "data": {
      "text/plain": [
       "[array([4, 3]), array([54,  6]), array([86, 34]), array([242]), array([34])]"
      ]
     },
     "execution_count": 7,
     "metadata": {},
     "output_type": "execute_result"
    }
   ],
   "source": [
    "# Concatenate and split arrays.\n",
    "arr_full = np.array([4, 3, 54, 6, 86, 34, 242, 34])\n",
    "np.concatenate((arr_full, arr))\n",
    "np.array_split(arr_full, 5)"
   ]
  },
  {
   "cell_type": "markdown",
   "metadata": {},
   "source": [
    "## Statistical Operations"
   ]
  },
  {
   "cell_type": "code",
   "execution_count": 8,
   "metadata": {},
   "outputs": [],
   "source": [
    "# Compute mean, median, variance, and standard deviation of an array.\n",
    "mean = arr_full.mean()\n",
    "median = np.median(arr_full)\n",
    "var = np.var(arr_full)\n",
    "sd = np.std(arr_full)"
   ]
  },
  {
   "cell_type": "code",
   "execution_count": 9,
   "metadata": {},
   "outputs": [],
   "source": [
    "# Find the minimum and maximum values in an array along with their indices.\n",
    "min_val = np.min(arr_full)\n",
    "min_val_index = np.argmin(arr_full)\n",
    "max_val = np.max(arr_full)\n",
    "max_val_index = np.argmax(arr_full)"
   ]
  },
  {
   "cell_type": "code",
   "execution_count": 14,
   "metadata": {},
   "outputs": [
    {
     "data": {
      "text/plain": [
       "49"
      ]
     },
     "execution_count": 14,
     "metadata": {},
     "output_type": "execute_result"
    }
   ],
   "source": [
    "# Compute the sum and product of array elements.\n",
    "np.sum([3, 4, 34, 5, 7, -4])\n",
    "np.prod([[3, 4, 34, -5, 7, -4]])"
   ]
  },
  {
   "cell_type": "markdown",
   "metadata": {},
   "source": [
    "# Broadcasting"
   ]
  },
  {
   "cell_type": "code",
   "execution_count": 29,
   "metadata": {},
   "outputs": [
    {
     "data": {
      "text/plain": [
       "array([[ 1,  2,  3],\n",
       "       [11, 12, 13],\n",
       "       [21, 22, 23],\n",
       "       [31, 32, 33]])"
      ]
     },
     "execution_count": 29,
     "metadata": {},
     "output_type": "execute_result"
    }
   ],
   "source": [
    "# Demonstrate broadcasting with examples of different shapes of arrays.\n",
    "a = np.array([0, 10, 20, 30])\n",
    "b = np.array([1, 2, 3])\n",
    "a[:, np.newaxis] + b"
   ]
  },
  {
   "cell_type": "code",
   "execution_count": null,
   "metadata": {},
   "outputs": [],
   "source": [
    "# Explain the concept of broadcasting and how it works in NumPy."
   ]
  },
  {
   "cell_type": "code",
   "execution_count": 11,
   "metadata": {},
   "outputs": [
    {
     "ename": "SyntaxError",
     "evalue": "invalid syntax (3547356544.py, line 1)",
     "output_type": "error",
     "traceback": [
      "\u001b[1;36m  Cell \u001b[1;32mIn[11], line 1\u001b[1;36m\u001b[0m\n\u001b[1;33m    Compute mean, median, variance, and standard deviation of an array.\u001b[0m\n\u001b[1;37m            ^\u001b[0m\n\u001b[1;31mSyntaxError\u001b[0m\u001b[1;31m:\u001b[0m invalid syntax\n"
     ]
    }
   ],
   "source": [
    "Broadcasting\n",
    "\n",
    "Demonstrate broadcasting with examples of different shapes of arrays.\n",
    "Explain the concept of broadcasting and how it works in NumPy.\n",
    "Linear Algebra\n",
    "\n",
    "Perform matrix multiplication.\n",
    "Compute the determinant, inverse, and eigenvalues of a matrix.\n",
    "Solve a system of linear equations.\n",
    "Advanced Indexing and Slicing\n",
    "\n",
    "Use Boolean indexing to filter an array.\n",
    "Use fancy indexing to select specific elements from an array.\n",
    "Perform advanced slicing operations.\n",
    "Random Sampling\n",
    "\n",
    "Generate random numbers from different distributions.\n",
    "Create random samples from a dataset.\n",
    "Perform random shuffling of an array."
   ]
  },
  {
   "cell_type": "code",
   "execution_count": null,
   "metadata": {},
   "outputs": [],
   "source": []
  }
 ],
 "metadata": {
  "kernelspec": {
   "display_name": "Python 3",
   "language": "python",
   "name": "python3"
  },
  "language_info": {
   "codemirror_mode": {
    "name": "ipython",
    "version": 3
   },
   "file_extension": ".py",
   "mimetype": "text/x-python",
   "name": "python",
   "nbconvert_exporter": "python",
   "pygments_lexer": "ipython3",
   "version": "3.12.3"
  }
 },
 "nbformat": 4,
 "nbformat_minor": 2
}
