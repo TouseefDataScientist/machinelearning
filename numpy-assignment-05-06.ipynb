{
 "cells": [
  {
   "cell_type": "markdown",
   "metadata": {},
   "source": [
    "# Assignment Numpy"
   ]
  },
  {
   "cell_type": "markdown",
   "metadata": {},
   "source": [
    "## Basic Array Operations"
   ]
  },
  {
   "cell_type": "code",
   "execution_count": 3,
   "metadata": {},
   "outputs": [
    {
     "name": "stdout",
     "output_type": "stream",
     "text": [
      "[2 3 4 5 6] [[4 3 5 9 7]\n",
      " [3 6 7 2 5]] [[2 3 4 4 5]\n",
      " [3 4 5 6 2]\n",
      " [3 6 7 5 3]]\n"
     ]
    }
   ],
   "source": [
    "import numpy as np\n",
    "# Create a 1D array, a 2D array, and a 3D array.\n",
    "arr1D = np.array([2, 3, 4, 5, 6])\n",
    "arr2D = np.array([[4, 3, 5, 9, 7], [3, 6, 7, 2, 5]])\n",
    "arr3D = np.array([[2, 3, 4, 4, 5], [3, 4, 5, 6,2], [3,6, 7, 5, 3]])\n",
    "\n",
    "print(arr1D, arr2D, arr3D)\n"
   ]
  },
  {
   "cell_type": "code",
   "execution_count": 12,
   "metadata": {},
   "outputs": [
    {
     "data": {
      "text/plain": [
       "array([3, 5])"
      ]
     },
     "execution_count": 12,
     "metadata": {},
     "output_type": "execute_result"
    }
   ],
   "source": [
    "# Perform slicing operations on arrays.\n",
    "arr1D[1:4:2]"
   ]
  },
  {
   "cell_type": "code",
   "execution_count": 17,
   "metadata": {},
   "outputs": [
    {
     "name": "stdout",
     "output_type": "stream",
     "text": [
      "[[0.5  0.75 1.   1.   1.25]\n",
      " [0.75 1.   1.25 1.5  0.5 ]\n",
      " [0.75 1.5  1.75 1.25 0.75]]\n"
     ]
    }
   ],
   "source": [
    "# Perform basic arithmetic operations on arrays (addition, subtraction, multiplication, division).\n",
    "add_arrays = np.array([3, 5, 7, -5, 3]) + arr1D\n",
    "sub_arrays = add_arrays - np.array([4, 2, 4, 0, -3])\n",
    "mul_arrays = arr2D * 3\n",
    "div_arrays = arr3D / 4\n",
    "\n",
    "print(div_arrays)\n"
   ]
  },
  {
   "cell_type": "markdown",
   "metadata": {},
   "source": [
    "## Array Creation and Manipulation"
   ]
  },
  {
   "cell_type": "code",
   "execution_count": 47,
   "metadata": {},
   "outputs": [
    {
     "name": "stdout",
     "output_type": "stream",
     "text": [
      "[[0.1617206  0.02018064 0.36544525 0.00857545]\n",
      " [0.72020228 0.51193693 0.31307546 0.69294939]\n",
      " [0.75346226 0.18762375 0.58034296 0.09839628]]\n"
     ]
    }
   ],
   "source": [
    "# Create arrays using different functions: arange, linspace, zeros, ones, eye, random.\n",
    "arr_arange = np.arange(3, 40, 3)\n",
    "arr_linspc = np.linspace(1.2, 40.8, 6)\n",
    "arr_zeros = np.zeros((3, 4))\n",
    "arr_eye = np.eye(4, dtype=int)\n",
    "arr_rand = np.random.rand(3, 4)\n",
    "\n",
    "print(arr_rand)"
   ]
  },
  {
   "cell_type": "code",
   "execution_count": 49,
   "metadata": {},
   "outputs": [
    {
     "data": {
      "text/plain": [
       "array([[  2,  34,   5],\n",
       "       [  5,  23,  53],\n",
       "       [ 56, -34,  54]])"
      ]
     },
     "execution_count": 49,
     "metadata": {},
     "output_type": "execute_result"
    }
   ],
   "source": [
    "# Reshape an array.\n",
    "arr = np.array([2, 34, 5, 5, 23, 53, 56, -34, 54])\n",
    "arr.reshape(3, 3)"
   ]
  },
  {
   "cell_type": "code",
   "execution_count": 61,
   "metadata": {},
   "outputs": [
    {
     "data": {
      "text/plain": [
       "[array([4, 3]), array([54,  6]), array([86, 34]), array([242]), array([34])]"
      ]
     },
     "execution_count": 61,
     "metadata": {},
     "output_type": "execute_result"
    }
   ],
   "source": [
    "# Concatenate and split arrays.\n",
    "arr_full = np.array([4, 3, 54, 6, 86, 34, 242, 34])\n",
    "np.concatenate((arr_full, arr))\n",
    "np.array_split(arr_full, 5)"
   ]
  },
  {
   "cell_type": "markdown",
   "metadata": {},
   "source": [
    "## Statistical Operations"
   ]
  },
  {
   "cell_type": "code",
   "execution_count": 72,
   "metadata": {},
   "outputs": [
    {
     "name": "stdout",
     "output_type": "stream",
     "text": [
      "5556.609375\n"
     ]
    }
   ],
   "source": [
    "# Compute mean, median, variance, and standard deviation of an array.\n",
    "mean = arr_full.mean()\n",
    "median = np.median(arr_full)\n",
    "var = np.var(arr_full)\n",
    "sd = np.std(arr_full)"
   ]
  },
  {
   "cell_type": "code",
   "execution_count": 78,
   "metadata": {},
   "outputs": [
    {
     "name": "stdout",
     "output_type": "stream",
     "text": [
      "3 1\n",
      "242 6\n"
     ]
    }
   ],
   "source": [
    "# Find the minimum and maximum values in an array along with their indices.\n",
    "min_val = np.min(arr_full)\n",
    "min_val_index = np.argmin(arr_full)\n",
    "max_val = np.max(arr_full)\n",
    "max_val_index = np.argmax(arr_full)"
   ]
  },
  {
   "cell_type": "code",
   "execution_count": null,
   "metadata": {},
   "outputs": [],
   "source": [
    "Compute mean, median, variance, and standard deviation of an array.\n",
    "Find the minimum and maximum values in an array along with their indices.\n",
    "Compute the sum and product of array elements.\n",
    "Broadcasting\n",
    "\n",
    "Demonstrate broadcasting with examples of different shapes of arrays.\n",
    "Explain the concept of broadcasting and how it works in NumPy.\n",
    "Linear Algebra\n",
    "\n",
    "Perform matrix multiplication.\n",
    "Compute the determinant, inverse, and eigenvalues of a matrix.\n",
    "Solve a system of linear equations.\n",
    "Advanced Indexing and Slicing\n",
    "\n",
    "Use Boolean indexing to filter an array.\n",
    "Use fancy indexing to select specific elements from an array.\n",
    "Perform advanced slicing operations.\n",
    "Random Sampling\n",
    "\n",
    "Generate random numbers from different distributions.\n",
    "Create random samples from a dataset.\n",
    "Perform random shuffling of an array."
   ]
  }
 ],
 "metadata": {
  "kernelspec": {
   "display_name": "Python 3",
   "language": "python",
   "name": "python3"
  },
  "language_info": {
   "codemirror_mode": {
    "name": "ipython",
    "version": 3
   },
   "file_extension": ".py",
   "mimetype": "text/x-python",
   "name": "python",
   "nbconvert_exporter": "python",
   "pygments_lexer": "ipython3",
   "version": "3.12.3"
  }
 },
 "nbformat": 4,
 "nbformat_minor": 2
}
