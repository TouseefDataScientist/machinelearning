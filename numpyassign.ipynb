{
 "cells": [
  {
   "cell_type": "code",
   "execution_count": 2,
   "metadata": {},
   "outputs": [],
   "source": [
    "### Numpy Assignment No.1"
   ]
  },
  {
   "cell_type": "markdown",
   "metadata": {},
   "source": [
    "#### Q1: Basic Array Operations\n"
   ]
  },
  {
   "cell_type": "code",
   "execution_count": 3,
   "metadata": {},
   "outputs": [],
   "source": [
    "import pandas as pd\n",
    "import numpy as np"
   ]
  },
  {
   "cell_type": "code",
   "execution_count": 4,
   "metadata": {},
   "outputs": [
    {
     "name": "stdout",
     "output_type": "stream",
     "text": [
      "[1 2 3 4]\n"
     ]
    }
   ],
   "source": [
    "#Create a 1D array, a 2D array, and a 3D array.\n",
    "# One Demensional Array\n",
    "oneD = np.array([1, 2, 3, 4]) # 1D array \n",
    "print(oneD) "
   ]
  },
  {
   "cell_type": "code",
   "execution_count": 5,
   "metadata": {},
   "outputs": [
    {
     "name": "stdout",
     "output_type": "stream",
     "text": [
      "[[1 2]\n",
      " [3 4]]\n"
     ]
    }
   ],
   "source": [
    "# Two Demensional Array\n",
    "twoD = np.array([[1, 2], [3, 4]]) # 2D Array\n",
    "#twoD\n",
    "print(twoD)"
   ]
  },
  {
   "cell_type": "code",
   "execution_count": 6,
   "metadata": {},
   "outputs": [
    {
     "name": "stdout",
     "output_type": "stream",
     "text": [
      "[[ 2  4]\n",
      " [ 6  8]\n",
      " [10 12]]\n"
     ]
    },
    {
     "data": {
      "text/plain": [
       "array([[ 2,  4],\n",
       "       [ 6,  8],\n",
       "       [10, 12]])"
      ]
     },
     "execution_count": 6,
     "metadata": {},
     "output_type": "execute_result"
    }
   ],
   "source": [
    "# Three Demensional Array\n",
    "threeD = np.array([[2, 4], [6, 8], [10, 12]]) # 3D Array\n",
    "print(threeD)\n",
    "threeD"
   ]
  },
  {
   "cell_type": "code",
   "execution_count": 7,
   "metadata": {},
   "outputs": [],
   "source": [
    "#Perform slicing operations on arrays.\n",
    "slicing = np.arange(10)**3 # create array cube by arange function \n",
    "#print(slicing)\n",
    "#print(slicing[4:8]) #array slincing \n",
    "sli = np.arange(10)**3\n",
    "sli[2:6:2]\n",
    "sli\n",
    "slicing[:8:2] = -1000 \n",
    "#slicing"
   ]
  },
  {
   "cell_type": "code",
   "execution_count": 8,
   "metadata": {},
   "outputs": [
    {
     "data": {
      "text/plain": [
       "array([[ 9, 14, 19],\n",
       "       [ 7, 13, 19]])"
      ]
     },
     "execution_count": 8,
     "metadata": {},
     "output_type": "execute_result"
    }
   ],
   "source": [
    "#Perform basic arithmetic operations on arrays (addition, subtraction, multiplication, division)\n",
    "art1 = np.array([[2, 4, 6],[1, 2, 3]])\n",
    "art2 = np.array([[1, 3, 5],[4, 5, 6]])\n",
    "art3 = np.array([[6, 7, 8],[2, 6, 10]])\n",
    "art1 + art2 + art3 # Addition of array"
   ]
  },
  {
   "cell_type": "code",
   "execution_count": 9,
   "metadata": {},
   "outputs": [
    {
     "data": {
      "text/plain": [
       "array([[ -5,  -6,  -7],\n",
       "       [ -5,  -9, -13]])"
      ]
     },
     "execution_count": 9,
     "metadata": {},
     "output_type": "execute_result"
    }
   ],
   "source": [
    "art1 - art2 - art3 # Subtraction of array\n"
   ]
  },
  {
   "cell_type": "code",
   "execution_count": 10,
   "metadata": {},
   "outputs": [
    {
     "data": {
      "text/plain": [
       "array([[ 12,  84, 240],\n",
       "       [  8,  60, 180]])"
      ]
     },
     "execution_count": 10,
     "metadata": {},
     "output_type": "execute_result"
    }
   ],
   "source": [
    "art1 * art2 * art3 # Multiplication of array\n"
   ]
  },
  {
   "cell_type": "code",
   "execution_count": 11,
   "metadata": {},
   "outputs": [
    {
     "data": {
      "text/plain": [
       "array([[0.33333333, 0.19047619, 0.15      ],\n",
       "       [0.125     , 0.06666667, 0.05      ]])"
      ]
     },
     "execution_count": 11,
     "metadata": {},
     "output_type": "execute_result"
    }
   ],
   "source": [
    "art1 / art2 / art3 # division of array\n"
   ]
  },
  {
   "cell_type": "markdown",
   "metadata": {},
   "source": [
    "#### Q2: Array Creation and Manipulation\n"
   ]
  },
  {
   "cell_type": "code",
   "execution_count": 12,
   "metadata": {},
   "outputs": [
    {
     "name": "stdout",
     "output_type": "stream",
     "text": [
      "[0. 0. 0. 0. 0.]\n"
     ]
    },
    {
     "data": {
      "text/plain": [
       "array([0, 0, 0, 0, 0, 0, 0, 0, 0, 0])"
      ]
     },
     "execution_count": 12,
     "metadata": {},
     "output_type": "execute_result"
    }
   ],
   "source": [
    "#Create arrays using different functions: arange, linspace, zeros, ones, eye, random.\n",
    "zero = np.zeros(5) # using simple zero function\n",
    "print(zero)\n",
    "zero = np.zeros((10,), dtype=int)\n",
    "#zero = np.zeros((2,2), dtype=[('x', 'i4'), ('y', 'i4')]) # using zero function \n",
    "zero"
   ]
  },
  {
   "cell_type": "code",
   "execution_count": 13,
   "metadata": {},
   "outputs": [
    {
     "name": "stdout",
     "output_type": "stream",
     "text": [
      "Arry is: [10 12 14 16 18 20 22 24 26 28]\n",
      "Reshaped array is: [[10 12 14 16 18]\n",
      " [20 22 24 26 28]]\n"
     ]
    }
   ],
   "source": [
    "#Reshape an array.\n",
    "arange_arr = np.arange(10,30,2) # create array between 10 to 30 \n",
    "reshape_arr = arange_arr.reshape(2,5)\n",
    "print(\"Arry is:\", arange_arr)\n",
    "print(\"Reshaped array is:\", reshape_arr)"
   ]
  },
  {
   "cell_type": "code",
   "execution_count": 14,
   "metadata": {},
   "outputs": [
    {
     "name": "stdout",
     "output_type": "stream",
     "text": [
      "concatenate array: [ 4  6  8 10  1  2  3  4]\n"
     ]
    }
   ],
   "source": [
    "#Concatenate and split arrays.\n",
    "arr1 = np.array([4, 6, 8, 10]) # create Array one\n",
    "arr2 = np.array([1, 2, 3, 4]) # create array two\n",
    "concatenate_arr = np.concatenate((arr1,arr2), axis= 0) # concatenate both array with concatenate function\n",
    "print(\"concatenate array:\", concatenate_arr)"
   ]
  },
  {
   "cell_type": "markdown",
   "metadata": {},
   "source": [
    "#### Q3: Statistical Operations"
   ]
  },
  {
   "cell_type": "code",
   "execution_count": 15,
   "metadata": {},
   "outputs": [
    {
     "name": "stdout",
     "output_type": "stream",
     "text": [
      "Original array:  [50 55 60 65 70 75 80 85 90 95]\n",
      "Mean:  72.5\n"
     ]
    }
   ],
   "source": [
    "#Compute mean, median, variance, and standard deviation of an array.\n",
    "# Mean standard deviation of an array\n",
    "state_arr = np.arange(50,100,5)  # create array value 10 between 50 to 160 \n",
    "mean_arr = np.mean(state_arr) # make mean of array with mean function\n",
    "print(\"Original array: \", state_arr)\n",
    "print(\"Mean: \", mean_arr)"
   ]
  },
  {
   "cell_type": "code",
   "execution_count": 16,
   "metadata": {},
   "outputs": [
    {
     "name": "stdout",
     "output_type": "stream",
     "text": [
      "original of the array is:  [50 55 60 65 70 75 80 85 90 95]\n",
      "reshaped array is:  [[ 1  3  5  7  9 11]\n",
      " [13 15 17 19 21 23]\n",
      " [25 27 29 31 33 35]]\n",
      "Median of the array is:  [13. 15. 17. 19. 21. 23.]\n"
     ]
    }
   ],
   "source": [
    "# Median standard deviation of an array\n",
    "state_arr1 = np.arange(1,36,2) # create arry of 18 value from 1 to 36\n",
    "reshape_arr1 = state_arr1.reshape(3,6) # reshape the arry\n",
    "median_arr = np.median(reshape_arr1, axis=0) # median of arry\n",
    "print(\"original of the array is: \", state_arr)\n",
    "print(\"reshaped array is: \", reshape_arr1)\n",
    "print(\"Median of the array is: \", median_arr)\n"
   ]
  },
  {
   "cell_type": "code",
   "execution_count": 17,
   "metadata": {},
   "outputs": [
    {
     "name": "stdout",
     "output_type": "stream",
     "text": [
      "original array is:  [ 4  6  8 10 12 14]\n",
      "Variance of the array is:  11.666666666666666\n",
      "direct variance 2.6666666666666665\n"
     ]
    }
   ],
   "source": [
    "#variance standard deviation of an array\n",
    "state_arr2 = np.arange(4,16,2)# create arry of 7 value from 4 to 16\n",
    "variance = state_arr2.var() # apply vraience function\n",
    "print(\"original array is: \", state_arr2)\n",
    "print(\"Variance of the array is: \", variance)\n",
    "print(\"direct variance\", np.var([2, 4, 6])) # we can find direct varienace"
   ]
  },
  {
   "cell_type": "code",
   "execution_count": 18,
   "metadata": {},
   "outputs": [
    {
     "name": "stdout",
     "output_type": "stream",
     "text": [
      "original array: [20 24 28 32 36 40 44 48 52 56 60 64 68 72 76]\n",
      "standard deviation of array: 17.281975195754296\n"
     ]
    }
   ],
   "source": [
    "#standard deviation of an array\n",
    "state_arr3 = np.arange(20,80,4) # create random arry of 10 value from 20 to 80\n",
    "#std = sqrt(mean(abs(x - x.mean())**2)) # std formula\n",
    "sd = state_arr3.std() # standard deviation function\n",
    "print(\"original array:\",state_arr3)\n",
    "print(\"standard deviation of array:\",sd)"
   ]
  },
  {
   "cell_type": "code",
   "execution_count": 19,
   "metadata": {},
   "outputs": [
    {
     "name": "stdout",
     "output_type": "stream",
     "text": [
      "Array:  [47 89 70 33 79 35 32 59 59 71]\n",
      "Minimum value:  32\n"
     ]
    }
   ],
   "source": [
    "#Find the minimum and maximum values in an array along with their indices.\n",
    "# minimum values in an array\n",
    "arr3 = np.random.randint(20, 100, 10, dtype=int) \n",
    "mini = arr3.min()\n",
    "print(\"Array: \", arr3)\n",
    "print(\"Minimum value: \", mini)"
   ]
  },
  {
   "cell_type": "code",
   "execution_count": 20,
   "metadata": {},
   "outputs": [
    {
     "name": "stdout",
     "output_type": "stream",
     "text": [
      "Array:  [66 95 28 73 26 85 54 70 98 76]\n",
      "Max value:  98\n"
     ]
    }
   ],
   "source": [
    "#maximum values in an array\n",
    "arr3 = np.random.randint(20, 100, 10, dtype=int) \n",
    "maxi = arr3.max()\n",
    "print(\"Array: \", arr3)\n",
    "print(\"Max value: \", maxi)"
   ]
  },
  {
   "cell_type": "code",
   "execution_count": 44,
   "metadata": {},
   "outputs": [
    {
     "name": "stdout",
     "output_type": "stream",
     "text": [
      "orignal array is: [411 111 228 171 319 424 212 297 171 311 188 211]\n",
      "reshaped array is: [[411 111 228 171]\n",
      " [319 424 212 297]\n",
      " [171 311 188 211]]\n",
      "sum of array elements is: 3054\n",
      "product of array elements is: -1416924672\n"
     ]
    }
   ],
   "source": [
    "#Compute the sum and product of array elements.\n",
    "arr_element = np.random.randint(50,452,12) # create random array \n",
    "np.random.seed(arr_element) # random array cannot change element value\n",
    "reshape_arry = arr_element.reshape(3,4) #reshape the array\n",
    "sum_arr = np.sum(arr_element) # sum of all elements of array\n",
    "product_arr = np.prod(arr_element) # product of all elements of array\n",
    "print(\"orignal array is:\",arr_element)\n",
    "print(\"reshaped array is:\",reshape_arry)\n",
    "print(\"sum of array elements is:\",sum_arr)\n",
    "print(\"product of array elements is:\",product_arr)"
   ]
  },
  {
   "cell_type": "markdown",
   "metadata": {},
   "source": [
    "#### Q4: Broadcasting\n"
   ]
  },
  {
   "cell_type": "code",
   "execution_count": 54,
   "metadata": {},
   "outputs": [
    {
     "name": "stdout",
     "output_type": "stream",
     "text": [
      " array one is: [[59 80 61]\n",
      " [54 67 18]\n",
      " [51 85 82]\n",
      " [30 21 23]]\n",
      "array two is [10 13 16]\n",
      "broadcasting of array is: [234 305 248]\n"
     ]
    }
   ],
   "source": [
    "#Demonstrate broadcasting with examples of different shapes of arrays.\n",
    "dif_arr1 = np.random.randint(10,90,12)\n",
    "np.random.seed(dif_arr1)\n",
    "reshape_arr3 = dif_arr1.reshape(4,3)\n",
    "dif_arr2 = np.arange(10,19,3)\n",
    "arr_sum = sum(reshape_arr3+dif_arr2)\n",
    "print(\" array one is:\",reshape_arr3)\n",
    "print(\"array two is\",dif_arr2)\n",
    "print(\"broadcasting of array is:\",arr_sum)\n"
   ]
  },
  {
   "cell_type": "code",
   "execution_count": 23,
   "metadata": {},
   "outputs": [],
   "source": [
    "    #Explain the concept of broadcasting and how it works in NumPy."
   ]
  },
  {
   "cell_type": "markdown",
   "metadata": {},
   "source": [
    "#### Q5: Linear Algebra"
   ]
  },
  {
   "cell_type": "code",
   "execution_count": 55,
   "metadata": {},
   "outputs": [
    {
     "name": "stdout",
     "output_type": "stream",
     "text": [
      "[[44 56]\n",
      " [66 84]]\n"
     ]
    }
   ],
   "source": [
    "#Perform matrix multiplication.\n",
    "mat1 = np.array([[2,4,6],[3,6,9]])\n",
    "mat2 = np.array([[1,2],[3,4],[5,6]])\n",
    "print(np.dot(mat1,mat2))"
   ]
  },
  {
   "cell_type": "code",
   "execution_count": 58,
   "metadata": {},
   "outputs": [
    {
     "name": "stdout",
     "output_type": "stream",
     "text": [
      "Determinant of the matrix is:  -37.99999999999999\n"
     ]
    }
   ],
   "source": [
    "#Compute the determinant of a matrix.#Compute the eigenvalues of a matrix.\n",
    "mat_arr = np.array([[5,6,4],[3,7,6],[7,9,4]])\n",
    "deter = np.linalg.det(mat_arr)\n",
    "print(\"Determinant of the matrix is: \", deter)"
   ]
  },
  {
   "cell_type": "code",
   "execution_count": 59,
   "metadata": {},
   "outputs": [
    {
     "name": "stdout",
     "output_type": "stream",
     "text": [
      "Inverse of the matrix: [[ 0.68421053 -0.31578947 -0.21052632]\n",
      " [-0.78947368  0.21052632  0.47368421]\n",
      " [ 0.57894737  0.07894737 -0.44736842]]\n"
     ]
    }
   ],
   "source": [
    "#Compute the inverse of a matrix.\n",
    "inr = np.linalg.inv(mat_arr)\n",
    "print(\"Inverse of the matrix:\", inr)"
   ]
  },
  {
   "cell_type": "code",
   "execution_count": 70,
   "metadata": {},
   "outputs": [
    {
     "name": "stdout",
     "output_type": "stream",
     "text": [
      "solve linear equation is: [[ 5.]\n",
      " [ 3.]\n",
      " [-2.]]\n"
     ]
    }
   ],
   "source": [
    "#Solve a system of linear equations.\n",
    "mat1 =np.array([[1,1,1],[0,2,5],[2,5,-1]])\n",
    "mat2 = np.array([[6],[-4],[27]])\n",
    "solve = np.linalg.solve(mat1,mat2)\n",
    "print(\"solve linear equation is:\",solve)"
   ]
  },
  {
   "cell_type": "markdown",
   "metadata": {},
   "source": [
    "#### Q6: Advanced Indexing and Slicing\n"
   ]
  },
  {
   "cell_type": "code",
   "execution_count": 75,
   "metadata": {},
   "outputs": [
    {
     "name": "stdout",
     "output_type": "stream",
     "text": [
      "boolanj array: [ 6  7  8  9 10 11]\n"
     ]
    }
   ],
   "source": [
    "#Use Boolean indexing to filter an array.\n",
    "ind_arr  = np.array([[ 0, 1, 2],[ 3, 4, 5],[ 6, 7, 8],[ 9, 10, 11]])\n",
    "#bool_arr = np.array([[True, False, True],[False, True, False],[True,True,True,],[False,False,False]])\n",
    "bool_arr1 = ind_arr[ind_arr>5]\n",
    "print(\"boolanj array:\", bool_arr1)\n"
   ]
  },
  {
   "cell_type": "code",
   "execution_count": 91,
   "metadata": {},
   "outputs": [
    {
     "name": "stdout",
     "output_type": "stream",
     "text": [
      "[72 95 96 57 32 99 68 47 90 11]\n",
      "same result [57 47 96]\n"
     ]
    },
    {
     "data": {
      "text/plain": [
       "array([[57, 47],\n",
       "       [32, 99]])"
      ]
     },
     "execution_count": 91,
     "metadata": {},
     "output_type": "execute_result"
    }
   ],
   "source": [
    "#Use fancy indexing to select specific elements from an array.\n",
    "#r = np.random.RandomState(42)\n",
    "\n",
    "x = np.random.randint(100, size=10)\n",
    "print(x)\n",
    "#Suppose we want to access three different elements. We could do it like this:\n",
    "[x[3], x[7], x[2]]\n",
    "#But this is not very efficient. We can do it more efficiently using fancy indexing.\n",
    "#Alternatively, we can pass a single list or array of indices to obtain the same result:\n",
    "deff = x[[3, 7, 2]]\n",
    "print(\"same result\",deff)\n",
    "#when using fancy indexing, the shape of the result reflects the shape of the index arrays rather than the shape of the arraybeing indexed:\n",
    "ind = np.array([[3, 7],\n",
    "                [4, 5]])\n",
    "x[ind]"
   ]
  },
  {
   "cell_type": "code",
   "execution_count": 95,
   "metadata": {},
   "outputs": [
    {
     "name": "stdout",
     "output_type": "stream",
     "text": [
      "Our array is:\n",
      "[[1 2 3]\n",
      " [3 4 5]\n",
      " [4 5 6]]\n",
      "\n",
      "\n",
      "The items in the second column are:\n",
      "[2 4 5]\n",
      "\n",
      "\n",
      "The items in the second row are:\n",
      "[3 4 5]\n",
      "\n",
      "\n",
      "The items column 1 onwards are:\n",
      "[[2 3]\n",
      " [4 5]\n",
      " [5 6]]\n"
     ]
    }
   ],
   "source": [
    "#Perform advanced slicing operations.\n",
    "a = np.array([[1,2,3],[3,4,5],[4,5,6]])\n",
    "print ('Our array is:')\n",
    "print (a)\n",
    "print ('\\n')\n",
    "# this returns array of items in the second column\n",
    "print ('The items in the second column are:')\n",
    "print (a[...,1])\n",
    "print ('\\n')\n",
    "# Now we will slice all items from the second row\n",
    "print ('The items in the second row are:')\n",
    "print (a[1,...])\n",
    "print ('\\n')\n",
    "# Now we will slice all items from column 1 onwards\n",
    "print ('The items column 1 onwards are:')\n",
    "print (a[...,1:])"
   ]
  },
  {
   "cell_type": "markdown",
   "metadata": {},
   "source": [
    "#### Q7: Random Sampling"
   ]
  },
  {
   "cell_type": "code",
   "execution_count": 103,
   "metadata": {},
   "outputs": [
    {
     "name": "stdout",
     "output_type": "stream",
     "text": [
      "15 random numbers from a standard normal distribution:\n",
      "[-0.64112518 -0.38471116 -1.18926089  2.39534306 -1.97095032  0.63827922\n",
      "  0.44728479  0.77226038  0.32488065 -1.4270401   2.84400004  1.05102965\n",
      "  0.74377258  0.62882613  0.93567672]\n"
     ]
    }
   ],
   "source": [
    "#Generate random numbers from different distributions.\n",
    "rand_num = np.random.normal(0, 1, 15)\n",
    "\n",
    "# Printing a message indicating 15 random numbers from a standard normal distribution\n",
    "print(\"15 random numbers from a standard normal distribution:\")\n",
    "\n",
    "# Printing the array of 15 random numbers\n",
    "print(rand_num) "
   ]
  },
  {
   "cell_type": "code",
   "execution_count": 102,
   "metadata": {},
   "outputs": [
    {
     "name": "stdout",
     "output_type": "stream",
     "text": [
      "Output 2D Array filled with random floats :  [[0.14259395 0.51103762 0.71635846]\n",
      " [0.32405706 0.71003999 0.24854971]\n",
      " [0.90943579 0.09761429 0.64698723]]\n"
     ]
    }
   ],
   "source": [
    "#Create random samples from a dataset.\n",
    "out_arr = np.random.sample(size=(3, 3))\n",
    "print(\"Output 2D Array filled with random floats : \", out_arr)"
   ]
  },
  {
   "cell_type": "code",
   "execution_count": 101,
   "metadata": {},
   "outputs": [
    {
     "name": "stdout",
     "output_type": "stream",
     "text": [
      "g1 [0 1 2 3 4 5 6 7 8 9]\n",
      "g2 None\n"
     ]
    }
   ],
   "source": [
    "#Perform random shuffling of an array.\n",
    "g1 = np.arange(10) \n",
    "print(\"g1\",g1)\n",
    "# Using shuffle() method \n",
    "g2 = np.random.shuffle(g1) \n",
    "  \n",
    "print(\"g2\",g2)\n",
    "\n"
   ]
  },
  {
   "cell_type": "markdown",
   "metadata": {},
   "source": [
    "## Assignment as done"
   ]
  },
  {
   "cell_type": "markdown",
   "metadata": {},
   "source": []
  }
 ],
 "metadata": {
  "kernelspec": {
   "display_name": "Python 3",
   "language": "python",
   "name": "python3"
  },
  "language_info": {
   "codemirror_mode": {
    "name": "ipython",
    "version": 3
   },
   "file_extension": ".py",
   "mimetype": "text/x-python",
   "name": "python",
   "nbconvert_exporter": "python",
   "pygments_lexer": "ipython3",
   "version": "3.12.3"
  }
 },
 "nbformat": 4,
 "nbformat_minor": 2
}
