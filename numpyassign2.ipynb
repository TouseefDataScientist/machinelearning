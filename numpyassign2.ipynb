{
 "cells": [
  {
   "cell_type": "code",
   "execution_count": 1,
   "metadata": {},
   "outputs": [],
   "source": [
    "#Sales Data Analysis: You have a NumPy array representing the daily sales of a product over a month. Each element in the\n",
    "#array represents the sales for a particular day. Compute the total sales, average sales, and the day with the highest sales."
   ]
  },
  {
   "cell_type": "code",
   "execution_count": 2,
   "metadata": {},
   "outputs": [
    {
     "name": "stdout",
     "output_type": "stream",
     "text": [
      "total sale:  10450\n",
      "Average sale: 348.3333333333333\n",
      "Maximum Sales: 812\n"
     ]
    }
   ],
   "source": [
    "import pandas as pd\n",
    "import numpy as np\n",
    "#numpy arry daily sales of prod over a month\n",
    "sale = np.array([120, 50, 90, 150, 98, 147, 257, 741, 257, 698, 456, 741, 369, 154, 258, 417, 695, 587, 231, 247, 268, 365, 347, 324, 421, 471, 812, 329, 110, 240])\n",
    "#sale.size\n",
    "#colculate total sale\n",
    "sale_sum = np.sum(sale) # total sale\n",
    "avrg = np.average(sale) # find out avrg \n",
    "max_sale = np.amax(sale) # Maximum sale\n",
    "print (\"total sale: \",sale_sum)\n",
    "print(\"Average sale:\", avrg)\n",
    "print(\"Maximum Sales:\",max_sale)"
   ]
  },
  {
   "cell_type": "code",
   "execution_count": 3,
   "metadata": {},
   "outputs": [
    {
     "name": "stdout",
     "output_type": "stream",
     "text": [
      "[30.5 43.  31.5 30.5 27.  30.  32. ]\n"
     ]
    }
   ],
   "source": [
    "# Weather Data Processing: Given a 2D NumPy array where each row represents daily temperature readings for a week (7 days),\n",
    "# find the average temperature for each day across all weeks.\n",
    "temp = np.array([[35, 38, 25, 30, 36, 40, 42],[26, 48, 38, 31, 18, 20, 22]]) # 2D array each row rep daily temp reading for week\n",
    "avrg_temp = np.mean(temp, axis=0) # average temp for each day all weeks\n",
    "print(avrg_temp)"
   ]
  },
  {
   "cell_type": "code",
   "execution_count": 4,
   "metadata": {},
   "outputs": [
    {
     "ename": "NameError",
     "evalue": "name 'price' is not defined",
     "output_type": "error",
     "traceback": [
      "\u001b[1;31m---------------------------------------------------------------------------\u001b[0m",
      "\u001b[1;31mNameError\u001b[0m                                 Traceback (most recent call last)",
      "Cell \u001b[1;32mIn[4], line 4\u001b[0m\n\u001b[0;32m      1\u001b[0m \u001b[38;5;66;03m# Financial Analysis: You have a NumPy array representing the daily closing prices of a stock for a month. \u001b[39;00m\n\u001b[0;32m      2\u001b[0m \u001b[38;5;66;03m# Calculate the monthly return, which is the percentage change from the first to the last day of the month.\u001b[39;00m\n\u001b[0;32m      3\u001b[0m \u001b[38;5;66;03m#price = np.random.seed()\u001b[39;00m\n\u001b[1;32m----> 4\u001b[0m np\u001b[38;5;241m.\u001b[39mrandom\u001b[38;5;241m.\u001b[39mseed(\u001b[43mprice\u001b[49m)\n\u001b[0;32m      5\u001b[0m price \u001b[38;5;241m=\u001b[39m np\u001b[38;5;241m.\u001b[39mrandom\u001b[38;5;241m.\u001b[39mrandint(\u001b[38;5;241m300\u001b[39m,\u001b[38;5;241m800\u001b[39m,\u001b[38;5;241m30\u001b[39m)\n\u001b[0;32m      6\u001b[0m first \u001b[38;5;241m=\u001b[39m price[\u001b[38;5;241m0\u001b[39m]\n",
      "\u001b[1;31mNameError\u001b[0m: name 'price' is not defined"
     ]
    }
   ],
   "source": [
    "# Financial Analysis: You have a NumPy array representing the daily closing prices of a stock for a month. \n",
    "# Calculate the monthly return, which is the percentage change from the first to the last day of the month.\n",
    "#price = np.random.seed()\n",
    "np.random.seed(price)\n",
    "price = np.random.randint(300,800,30)\n",
    "first = price[0]\n",
    "last = price[-1]\n",
    "m_return = last-first/first # Monthly return\n",
    "per_return = last-first/first*100 # Monthly return percentage\n",
    "print(\"closing price:\",price)\n",
    "print(\"first price:\",first)\n",
    "print(\"last price:\",last)\n",
    "print(\"monthly return:\",m_return)\n",
    "print(\"monthly return percentage:\",per_return)\n",
    "print(\"Monthly return: {:.2f}%\".format(per_return))\n",
    "\n"
   ]
  },
  {
   "cell_type": "code",
   "execution_count": null,
   "metadata": {},
   "outputs": [
    {
     "ename": "",
     "evalue": "",
     "output_type": "error",
     "traceback": [
      "\u001b[1;31mFailed to start the Kernel. \n",
      "\u001b[1;31mUnable to start Kernel 'Python 3.12.3' due to a timeout waiting for the ports to get used. \n",
      "\u001b[1;31mView Jupyter <a href='command:jupyter.viewOutput'>log</a> for further details."
     ]
    }
   ],
   "source": [
    "# Student Grades Analysis: You have a 2D NumPy array where each row represents a student and each column represents their \n",
    "# grades in different subjects. Calculate the average grade for each student and the overall class average for each subject.\n"
   ]
  },
  {
   "cell_type": "code",
   "execution_count": null,
   "metadata": {},
   "outputs": [
    {
     "ename": "",
     "evalue": "",
     "output_type": "error",
     "traceback": [
      "\u001b[1;31mFailed to start the Kernel. \n",
      "\u001b[1;31mUnable to start Kernel 'Python 3.12.3' due to a timeout waiting for the ports to get used. \n",
      "\u001b[1;31mView Jupyter <a href='command:jupyter.viewOutput'>log</a> for further details."
     ]
    }
   ],
   "source": [
    "#Image Processing: You have a grayscale image represented as a 2D NumPy array of pixel intensities. \n",
    "# Normalize the pixel values to a range of 0 to 1.\n",
    "image = np.array([\n",
    "    [100, 150, 200],[50, 75, 225],])\n",
    "\n",
    "# Normalize pixel values to the range of 0 to 1\n",
    "normalized_image = image / 255.0\n",
    "print(\"Normalized Image:\", normalized_image)\n",
    "\n"
   ]
  },
  {
   "cell_type": "code",
   "execution_count": null,
   "metadata": {},
   "outputs": [
    {
     "ename": "",
     "evalue": "",
     "output_type": "error",
     "traceback": [
      "\u001b[1;31mFailed to start the Kernel. \n",
      "\u001b[1;31mUnable to start Kernel 'Python 3.12.3' due to a timeout waiting for the ports to get used. \n",
      "\u001b[1;31mView Jupyter <a href='command:jupyter.viewOutput'>log</a> for further details."
     ]
    }
   ],
   "source": [
    "# Population Growth Analysis: You have a NumPy array representing the population of a city over 10 years. \n",
    "# Calculate the annual growth rate and identify the year with the highest growth.\n",
    "population = np.array([2255, 2290, 2354, 2390, 2450, 2400, 2530, 2587, 2612, 2689])\n",
    "first_pop = population[0]\n",
    "last_pop = population[-1]\n",
    "growth_rate = last_pop -first_pop/first_pop*100\n",
    "growth_diff = np.diff(population)\n",
    "max_growth = np.argmax(growth_diff) + 1\n",
    "print(\"annual growth rate:\",growth_rate)\n",
    "print(\" highest growth:\",max_growth)"
   ]
  },
  {
   "cell_type": "code",
   "execution_count": 5,
   "metadata": {},
   "outputs": [
    {
     "name": "stdout",
     "output_type": "stream",
     "text": [
      "Total traffic for each day:\n",
      "Day 1: 1750\n",
      "Day 2: 1890\n",
      "Day 3: 1820\n",
      "Day 4: 1960\n",
      "Day 5: 2030\n",
      "Day 6: 2100\n",
      "Day 7: 2170\n",
      "\n",
      "The busiest hour of the week is hour 7.\n"
     ]
    }
   ],
   "source": [
    "\n",
    "#Traffic Data Analysis: Given a 2D NumPy array where each row represents the number of vehicles passing through a checkpoint in different hours of the day over a week, \n",
    "# calculate the total traffic for each day and the busiest hour of the week.\n",
    "traffic_data = np.array([\n",
    "    [100, 150, 200, 250, 300, 350, 400],[120, 170, 220, 270, 320, 370, 420], [110, 160, 210, 260, 310, 360, 410], \n",
    "    [130, 180, 230, 280, 330, 380, 430],  [140, 190, 240, 290, 340, 390, 440],   [150, 200, 250, 300, 350, 400, 450],  \n",
    "    [160, 210, 260, 310, 360, 410, 460] ]) \n",
    "# Calculate total traffic for each day\n",
    "daily_traffic = np.sum(traffic_data, axis=1)\n",
    "\n",
    "# Find the busiest hour of the week\n",
    "busiest_hour_index = np.argmax(np.sum(traffic_data, axis=0))\n",
    "# Hour index starts from 0, so add 1 to make it human-readable\n",
    "busiest_hour = busiest_hour_index + 1\n",
    "\n",
    "print(\"Total traffic for each day:\")\n",
    "for day, traffic in enumerate(daily_traffic, start=1):\n",
    "    print(f\"Day {day}: {traffic}\")\n",
    "\n",
    "print(f\"\\nThe busiest hour of the week is hour {busiest_hour}.\")"
   ]
  },
  {
   "cell_type": "code",
   "execution_count": 6,
   "metadata": {},
   "outputs": [
    {
     "name": "stdout",
     "output_type": "stream",
     "text": [
      "Reordered Inventory:\n",
      "Product A: 45 units\n",
      "Product C: 30 units\n",
      "Product E: 20 units\n",
      "Product B: 60 units\n",
      "Product D: 70 units\n"
     ]
    }
   ],
   "source": [
    "#Product Inventory Management: You have a NumPy array representing the stock levels of different products in a warehouse.\n",
    "#  Reorder the products with stock levels below a threshold (e.g., 50 units).\n",
    "import numpy as np\n",
    "\n",
    "# Example inventory data (replace with your actual data)\n",
    "inventory = np.array([\n",
    "    [\"Product A\", 45],\n",
    "    [\"Product B\", 60],\n",
    "    [\"Product C\", 30],\n",
    "    [\"Product D\", 70],\n",
    "    [\"Product E\", 20]\n",
    "])\n",
    "\n",
    "# Define the reorder threshold\n",
    "threshold = 50\n",
    "\n",
    "# Identify products with stock levels below the threshold\n",
    "low_stock_indices = np.where(inventory[:, 1].astype(int) < threshold)[0]\n",
    "\n",
    "# Reorder the products\n",
    "reordered_inventory = np.concatenate((\n",
    "    inventory[low_stock_indices],\n",
    "    inventory[np.setdiff1d(np.arange(len(inventory)), low_stock_indices)]\n",
    "))\n",
    "\n",
    "# Print the reordered inventory\n",
    "print(\"Reordered Inventory:\")\n",
    "for product in reordered_inventory:\n",
    "    print(f\"{product[0]}: {product[1]} units\")\n",
    "\n"
   ]
  },
  {
   "cell_type": "code",
   "execution_count": 7,
   "metadata": {},
   "outputs": [
    {
     "name": "stdout",
     "output_type": "stream",
     "text": [
      "Player1 average is: 49.53333333333333\n",
      "Player2 average is: 53.2\n",
      "Player3 average is: 55.333333333333336\n",
      "Highest Average Score:  55.333333333333336\n",
      "Player1 total score is: 743\n",
      "Player2 total score is: 798\n",
      "Player3 total score is: 830\n",
      "Highest Total Score:  830\n"
     ]
    }
   ],
   "source": [
    "#Game Score Analysis: You have a NumPy array representing the scores of different players in a game over multiple rounds.\n",
    "# Identify the player with the highest average score and the round with the highest total score.\n",
    "player1 = np.array([[55, 40, 50, 90, 20],[25, 60, 80, 4, 36], [21, 35, 90, 55, 82]])\n",
    "player2 = np.array([[23, 25, 95, 56, 50],[40, 6, 9, 29, 95], [26, 90, 2, 153, 99]])\n",
    "player3 = np.array([[45, 65, 78, 12, 45],[85, 2, 60, 9, 92], [82, 7, 63, 71, 114]])\n",
    "ply_arg1 = np.average(player1)\n",
    "ply_arg2 = np.average(player2)\n",
    "ply_arg3 = np.average(player3)\n",
    "highest_avg = np.maximum.reduce([ply_arg1, ply_arg2, ply_arg3])\n",
    "ply_score1 = np.sum(player1)\n",
    "ply_score2 = np.sum(player2)\n",
    "ply_score3 = np.sum(player3)\n",
    "highest_score = np.maximum.reduce([ply_score1, ply_score2, ply_score3]) # np.maximum(arr1, arr2)\n",
    "\n",
    "\n",
    "print(\"Player1 average is:\",ply_arg1)\n",
    "print(\"Player2 average is:\",ply_arg2)\n",
    "print(\"Player3 average is:\",ply_arg3)\n",
    "print(\"Highest Average Score: \", highest_avg)\n",
    "print(\"Player1 total score is:\",ply_score1)\n",
    "print(\"Player2 total score is:\",ply_score2)\n",
    "print(\"Player3 total score is:\",ply_score3)\n",
    "print(\"Highest Total Score: \", highest_score)\n"
   ]
  },
  {
   "cell_type": "code",
   "execution_count": 8,
   "metadata": {},
   "outputs": [
    {
     "name": "stdout",
     "output_type": "stream",
     "text": [
      "The output of random normal for loc=, scale=1.0 and size=(3, 5) is : \n",
      "[[ 0.29619508 -0.62328581  0.5571919  ...  1.26196883 -0.59453045\n",
      "   2.61124472]\n",
      " [ 1.78151877  0.19432106 -0.09519564 ...  0.50405278 -0.35743055\n",
      "   0.5047522 ]\n",
      " [ 0.07372551  0.13935634  0.7852322  ...  0.20767538 -0.07312987\n",
      "   1.28899127]\n",
      " ...\n",
      " [ 0.16957866 -0.16281247  0.8689127  ...  0.00963983  0.46458096\n",
      "  -0.70546486]\n",
      " [-0.34178886 -0.35781558 -0.231934   ...  0.2933087   0.65019651\n",
      "  -0.37620332]\n",
      " [-1.50317029  0.06002475  0.2121399  ...  0.28084491 -0.24407091\n",
      "   0.00328833]]\n",
      "\n",
      "\n",
      "The output of random normal for loc=0.5, scale=1.5 and size=(2, 5) is : \n",
      "[[ 0.20681748  1.96675421  0.7704895   1.45659542  1.65517883]\n",
      " [ 2.17481625  1.17875769 -0.11146544  2.20977226  0.16533981]]\n"
     ]
    }
   ],
   "source": [
    "#Financial Portfolio Analysis: You have a NumPy array representing the daily returns of different assets in a financial portfolio over a month.\n",
    "#  Calculate the portfolio's overall daily return, and identify the asset with the highest volatility.\n",
    " \n",
    "# Using normal() method of random class\n",
    "stock1 = np.random.normal(size = (30,50))\n",
    "print( \"The output of random normal for loc=, scale=1.0 and size=(3, 5) is : \" )\n",
    "# printing the size 6 normal distribution random samples of the normal() function\n",
    "print( stock1 )\n",
    "print(\"\\n\")\n",
    "stock2 = np.random.normal( loc =0.5, scale =1.5, size =(2,5))\n",
    "print( \"The output of random normal for loc=0.5, scale=1.5 and size=(2, 5) is : \" )\n",
    "print( stock2 )"
   ]
  }
 ],
 "metadata": {
  "kernelspec": {
   "display_name": "Python 3",
   "language": "python",
   "name": "python3"
  },
  "language_info": {
   "codemirror_mode": {
    "name": "ipython",
    "version": 3
   },
   "file_extension": ".py",
   "mimetype": "text/x-python",
   "name": "python",
   "nbconvert_exporter": "python",
   "pygments_lexer": "ipython3",
   "version": "3.12.3"
  }
 },
 "nbformat": 4,
 "nbformat_minor": 2
}
