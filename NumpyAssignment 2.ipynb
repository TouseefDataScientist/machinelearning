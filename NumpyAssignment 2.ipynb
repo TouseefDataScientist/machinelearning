{
 "cells": [
  {
   "cell_type": "markdown",
   "id": "2a86eb83",
   "metadata": {},
   "source": [
    "Name: Jahangeer Ali"
   ]
  },
  {
   "cell_type": "code",
   "execution_count": 2,
   "id": "fa26f7e5",
   "metadata": {},
   "outputs": [],
   "source": [
    "import pandas as pd\n",
    "import numpy as np"
   ]
  },
  {
   "cell_type": "markdown",
   "id": "9f69c3f4",
   "metadata": {},
   "source": [
    "### Sales Data Analysis"
   ]
  },
  {
   "cell_type": "code",
   "execution_count": 60,
   "id": "9bfa6429",
   "metadata": {},
   "outputs": [
    {
     "data": {
      "text/plain": [
       "array([105, 150, 200, 125, 200, 250, 180, 110, 160, 230, 210, 190, 140,\n",
       "       180, 200, 120, 170, 334, 190, 100, 150, 210, 180, 130,  50, 200,\n",
       "       110, 160, 230])"
      ]
     },
     "execution_count": 60,
     "metadata": {},
     "output_type": "execute_result"
    }
   ],
   "source": [
    "Daily_sales =np.array([105, 150, 200, 125, 200, 250, 180, 110, 160, 230, 210, 190, 140, 180, 200, 120, 170, 334, 190, 100, 150, 210, 180, 130, 50, 200, 110, 160, 230])\n",
    "Daily_sales"
   ]
  },
  {
   "cell_type": "code",
   "execution_count": 61,
   "id": "90ade748",
   "metadata": {},
   "outputs": [
    {
     "data": {
      "text/plain": [
       "4964"
      ]
     },
     "execution_count": 61,
     "metadata": {},
     "output_type": "execute_result"
    }
   ],
   "source": [
    "Total_sales=Daily_sales.sum()\n",
    "Total_sales"
   ]
  },
  {
   "cell_type": "code",
   "execution_count": 62,
   "id": "b7fbeb12",
   "metadata": {},
   "outputs": [
    {
     "data": {
      "text/plain": [
       "171.17241379310346"
      ]
     },
     "execution_count": 62,
     "metadata": {},
     "output_type": "execute_result"
    }
   ],
   "source": [
    "Average_sales=Daily_sales.mean()\n",
    "Average_sales"
   ]
  },
  {
   "cell_type": "code",
   "execution_count": 63,
   "id": "baba10c9",
   "metadata": {},
   "outputs": [
    {
     "data": {
      "text/plain": [
       "18"
      ]
     },
     "execution_count": 63,
     "metadata": {},
     "output_type": "execute_result"
    }
   ],
   "source": [
    "Highest_Day_sales=Daily_sales.argmax()+1\n",
    "Highest_Day_sales"
   ]
  },
  {
   "cell_type": "code",
   "execution_count": 64,
   "id": "966cc085",
   "metadata": {},
   "outputs": [
    {
     "data": {
      "text/plain": [
       "334"
      ]
     },
     "execution_count": 64,
     "metadata": {},
     "output_type": "execute_result"
    }
   ],
   "source": [
    "HeighestSale_Amount= Daily_sales.max()\n",
    "HeighestSale_Amount"
   ]
  },
  {
   "cell_type": "markdown",
   "id": "d98d4513",
   "metadata": {},
   "source": [
    "### Weather Data Processing"
   ]
  },
  {
   "cell_type": "code",
   "execution_count": 65,
   "id": "d739e371",
   "metadata": {},
   "outputs": [
    {
     "data": {
      "text/plain": [
       "array([[31, 43, 33, 37, 32, 36, 30],\n",
       "       [39, 42, 34, 31, 36, 32, 38],\n",
       "       [33, 41, 30, 32, 35, 38, 36]])"
      ]
     },
     "execution_count": 65,
     "metadata": {},
     "output_type": "execute_result"
    }
   ],
   "source": [
    "Weekly_Temperatures = np.array([[31,43,33,37,32,36,30],\n",
    "                                [39,42,34,31,36,32,38],\n",
    "                                [33,41,30,32,35,38,36],\n",
    "                               ])\n",
    "Weekly_Temperatures "
   ]
  },
  {
   "cell_type": "code",
   "execution_count": 66,
   "id": "80365c14",
   "metadata": {},
   "outputs": [
    {
     "data": {
      "text/plain": [
       "array([34.33333333, 42.        , 32.33333333, 33.33333333, 34.33333333,\n",
       "       35.33333333, 34.66666667])"
      ]
     },
     "execution_count": 66,
     "metadata": {},
     "output_type": "execute_result"
    }
   ],
   "source": [
    "Veg_temp_Day=Weekly_Temperatures.mean(axis=0)\n",
    "Veg_temp_Day"
   ]
  },
  {
   "cell_type": "code",
   "execution_count": 67,
   "id": "4eafdcc0",
   "metadata": {},
   "outputs": [
    {
     "name": "stdout",
     "output_type": "stream",
     "text": [
      "Day 1: 34.33 degrees Celsius\n",
      "Day 2: 42.00 degrees Celsius\n",
      "Day 3: 32.33 degrees Celsius\n",
      "Day 4: 33.33 degrees Celsius\n",
      "Day 5: 34.33 degrees Celsius\n",
      "Day 6: 35.33 degrees Celsius\n",
      "Day 7: 34.67 degrees Celsius\n"
     ]
    }
   ],
   "source": [
    "for day in range(7):\n",
    "    print(f\"Day {day+1}: {Veg_temp_Day[day]:.2f} degrees Celsius\")"
   ]
  },
  {
   "cell_type": "markdown",
   "id": "361943ee",
   "metadata": {},
   "source": [
    "### Financial Analysis"
   ]
  },
  {
   "cell_type": "code",
   "execution_count": 68,
   "id": "3e357431",
   "metadata": {},
   "outputs": [
    {
     "data": {
      "text/plain": [
       "array([109, 115, 104, 135, 136, 137, 138, 140, 142, 144, 145, 147, 148,\n",
       "       149, 150, 151])"
      ]
     },
     "execution_count": 68,
     "metadata": {},
     "output_type": "execute_result"
    }
   ],
   "source": [
    "Prices = np.array([109, 115, 104, 135, 136, 137, 138, 140, 142, 144, 145, 147, 148,149, 150, 151])\n",
    "Prices"
   ]
  },
  {
   "cell_type": "code",
   "execution_count": 69,
   "id": "697804f4",
   "metadata": {},
   "outputs": [
    {
     "data": {
      "text/plain": [
       "38.53211009174312"
      ]
     },
     "execution_count": 69,
     "metadata": {},
     "output_type": "execute_result"
    }
   ],
   "source": [
    "Monthly_return = (Prices[-1]-Prices[0])/prices[0]*100\n",
    "Monthly_return "
   ]
  },
  {
   "cell_type": "markdown",
   "id": "dbe0d258",
   "metadata": {},
   "source": [
    "### Student Grades Analysis"
   ]
  },
  {
   "cell_type": "code",
   "execution_count": 70,
   "id": "1b017e8c",
   "metadata": {},
   "outputs": [
    {
     "data": {
      "text/plain": [
       "array([[70, 95, 88],\n",
       "       [75, 60, 80],\n",
       "       [80, 89, 92],\n",
       "       [81, 77, 65]])"
      ]
     },
     "execution_count": 70,
     "metadata": {},
     "output_type": "execute_result"
    }
   ],
   "source": [
    "Grades_std = np.array([[70, 95, 88],[75, 60, 80],[80, 89, 92],[81, 77, 65]])\n",
    "Grades_std"
   ]
  },
  {
   "cell_type": "code",
   "execution_count": 71,
   "id": "c7b676d5",
   "metadata": {},
   "outputs": [
    {
     "data": {
      "text/plain": [
       "array([84.33333333, 71.66666667, 87.        , 74.33333333])"
      ]
     },
     "execution_count": 71,
     "metadata": {},
     "output_type": "execute_result"
    }
   ],
   "source": [
    "Avg_grade_pr_std = np.mean(Grades_std, axis=1)\n",
    "Avg_grade_pr_std"
   ]
  },
  {
   "cell_type": "code",
   "execution_count": 72,
   "id": "1382790e",
   "metadata": {},
   "outputs": [
    {
     "data": {
      "text/plain": [
       "array([76.5 , 80.25, 81.25])"
      ]
     },
     "execution_count": 72,
     "metadata": {},
     "output_type": "execute_result"
    }
   ],
   "source": [
    "Class_avg_per_subj = np.mean(Grades_std, axis=0)\n",
    "Class_avg_per_subj"
   ]
  },
  {
   "cell_type": "markdown",
   "id": "7130972d",
   "metadata": {},
   "source": [
    "### Image Processing"
   ]
  },
  {
   "cell_type": "code",
   "execution_count": 73,
   "id": "d6f6d6f0",
   "metadata": {},
   "outputs": [
    {
     "data": {
      "text/plain": [
       "array([[  0, 130, 255],\n",
       "       [ 50, 167, 138],\n",
       "       [255, 190,   0]])"
      ]
     },
     "execution_count": 73,
     "metadata": {},
     "output_type": "execute_result"
    }
   ],
   "source": [
    "img = np.array([[0, 130, 255],[50, 167, 138],[255, 190, 0]])\n",
    "img"
   ]
  },
  {
   "cell_type": "code",
   "execution_count": 74,
   "id": "6a7d593d",
   "metadata": {},
   "outputs": [
    {
     "data": {
      "text/plain": [
       "array([[0.        , 0.50980392, 1.        ],\n",
       "       [0.19607843, 0.65490196, 0.54117647],\n",
       "       [1.        , 0.74509804, 0.        ]])"
      ]
     },
     "execution_count": 74,
     "metadata": {},
     "output_type": "execute_result"
    }
   ],
   "source": [
    "#Img range 0 to 1\n",
    "normalized_img = img / 255.0\n",
    "normalized_img"
   ]
  },
  {
   "cell_type": "markdown",
   "id": "19e61d8a",
   "metadata": {},
   "source": [
    "### Population Growth Analysis"
   ]
  },
  {
   "cell_type": "code",
   "execution_count": 75,
   "id": "bea37761",
   "metadata": {},
   "outputs": [
    {
     "data": {
      "text/plain": [
       "array([1700, 1650, 1800, 2300, 1200, 1050, 1300, 1100, 1600, 1500])"
      ]
     },
     "execution_count": 75,
     "metadata": {},
     "output_type": "execute_result"
    }
   ],
   "source": [
    "Population_Data = np.array([1700, 1650, 1800, 2300, 1200, 1050, 1300, 1100, 1600, 1500])\n",
    "\n",
    "Population_Data"
   ]
  },
  {
   "cell_type": "code",
   "execution_count": 76,
   "id": "4e9df23f",
   "metadata": {},
   "outputs": [],
   "source": [
    "annual_growth_rate = np.diff(Population_Data) / Population_Data[:-1] * 100\n",
    "highest_growth_year = np.argmax(annual_growth_rate) + 1  "
   ]
  },
  {
   "cell_type": "code",
   "execution_count": 77,
   "id": "7122163c",
   "metadata": {
    "scrolled": true
   },
   "outputs": [
    {
     "data": {
      "text/plain": [
       "array([ -2.94117647,   9.09090909,  27.77777778, -47.82608696,\n",
       "       -12.5       ,  23.80952381, -15.38461538,  45.45454545,\n",
       "        -6.25      ])"
      ]
     },
     "execution_count": 77,
     "metadata": {},
     "output_type": "execute_result"
    }
   ],
   "source": [
    "annual_growth_rate\n"
   ]
  },
  {
   "cell_type": "code",
   "execution_count": 78,
   "id": "781b3b83",
   "metadata": {},
   "outputs": [
    {
     "data": {
      "text/plain": [
       "8"
      ]
     },
     "execution_count": 78,
     "metadata": {},
     "output_type": "execute_result"
    }
   ],
   "source": [
    "highest_growth_year"
   ]
  },
  {
   "cell_type": "markdown",
   "id": "802918c0",
   "metadata": {},
   "source": [
    "Traffic Data Analysis"
   ]
  },
  {
   "cell_type": "code",
   "execution_count": 79,
   "id": "37541ef0",
   "metadata": {},
   "outputs": [
    {
     "data": {
      "text/plain": [
       "array([[ 63,  32,  97,  84,  77, 137,  36, 158,  24,  39, 123,  36, 137,\n",
       "         64, 140, 115, 128, 139, 108,  99,  63, 163, 153,  78],\n",
       "       [164,  83,  31,  37, 137, 116, 169,  45,  85, 137, 151, 140,  64,\n",
       "         42,  26, 156,  48, 112, 140,  35,  78,  89,  46,  94],\n",
       "       [110,  26,  22, 118,  75,  92,  93, 143, 107,  35, 162,  95, 101,\n",
       "        162, 159, 103,  70,  91, 120,  93, 100,  85,  42, 128],\n",
       "       [ 74,  76,  63, 121,  35, 107,  54, 117, 116,  30,  80,  27, 168,\n",
       "         95, 127,  35,  75,  23,  28, 151, 111, 104,  65, 159],\n",
       "       [ 62, 139,  81, 137,  97, 133, 118,  24,  60, 101, 143,  33,  85,\n",
       "         75,  70, 151, 155, 114,  77,  82,  34,  47, 118, 156],\n",
       "       [ 74,  47, 156, 132, 130,  25,  47,  47,  21, 135,  96, 111, 162,\n",
       "         46, 109,  85, 137,  44,  33, 112, 167, 161,  35,  94],\n",
       "       [130,  61, 145, 108, 123,  53,  89, 125, 167, 118,  65, 105,  55,\n",
       "        142,  79,  27,  67,  91, 128, 165, 115,  30,  61, 125]])"
      ]
     },
     "execution_count": 79,
     "metadata": {},
     "output_type": "execute_result"
    }
   ],
   "source": [
    "#Data: 7 days, 24 hrs\n",
    "Trafic = np.random.randint(20, 170, size=(7, 24))\n",
    "Trafic "
   ]
  },
  {
   "cell_type": "code",
   "execution_count": 80,
   "id": "1ff4da48",
   "metadata": {},
   "outputs": [],
   "source": [
    "total_trafic_per_day = np.sum(Trafic, axis=1)\n",
    "Busy_hour_in_wk = np.argmax(np.sum(Trafic, axis=0))"
   ]
  },
  {
   "cell_type": "code",
   "execution_count": 81,
   "id": "f0336735",
   "metadata": {},
   "outputs": [
    {
     "data": {
      "text/plain": [
       "array([2293, 2225, 2332, 2041, 2292, 2206, 2374])"
      ]
     },
     "execution_count": 81,
     "metadata": {},
     "output_type": "execute_result"
    }
   ],
   "source": [
    "total_trafic_per_day "
   ]
  },
  {
   "cell_type": "code",
   "execution_count": 82,
   "id": "041f20c1",
   "metadata": {},
   "outputs": [
    {
     "data": {
      "text/plain": [
       "23"
      ]
     },
     "execution_count": 82,
     "metadata": {},
     "output_type": "execute_result"
    }
   ],
   "source": [
    "Busy_hour_in_wk"
   ]
  },
  {
   "cell_type": "markdown",
   "id": "13850c92",
   "metadata": {},
   "source": [
    "Product Inventory Management:"
   ]
  },
  {
   "cell_type": "code",
   "execution_count": 83,
   "id": "91e9ccaf",
   "metadata": {},
   "outputs": [],
   "source": [
    "Stock_levels = np.array([55, 65, 75, 35, 50, 25])\n"
   ]
  },
  {
   "cell_type": "code",
   "execution_count": 84,
   "id": "110c9f4f",
   "metadata": {},
   "outputs": [
    {
     "data": {
      "text/plain": [
       "array([3, 5], dtype=int64)"
      ]
     },
     "execution_count": 84,
     "metadata": {},
     "output_type": "execute_result"
    }
   ],
   "source": [
    "#threshold 50 units\n",
    "reorder_list = np.where(Stock_levels < 50)[0]\n",
    "\n",
    "reorder_list"
   ]
  },
  {
   "cell_type": "markdown",
   "id": "ebd21a8d",
   "metadata": {},
   "source": [
    "\n",
    "Game Score Analysis"
   ]
  },
  {
   "cell_type": "code",
   "execution_count": 85,
   "id": "56b567c7",
   "metadata": {},
   "outputs": [],
   "source": [
    "#Data of 5 players and 10 rounds\n",
    "Score = np.random.randint(80, 320, size=(5, 20))"
   ]
  },
  {
   "cell_type": "code",
   "execution_count": 86,
   "id": "3f9ed16c",
   "metadata": {},
   "outputs": [],
   "source": [
    "# Player with highest ave score\n",
    "highest_avg_scoreplayer = np.argmax(np.mean(Score, axis=1))\n",
    "\n",
    "# Round with highest T score\n",
    "highest_total_scorer_ound = np.argmax(np.sum(Score, axis=0))"
   ]
  },
  {
   "cell_type": "code",
   "execution_count": 87,
   "id": "e6dd47a3",
   "metadata": {},
   "outputs": [
    {
     "data": {
      "text/plain": [
       "2"
      ]
     },
     "execution_count": 87,
     "metadata": {},
     "output_type": "execute_result"
    }
   ],
   "source": [
    "highest_avg_scoreplayer"
   ]
  },
  {
   "cell_type": "code",
   "execution_count": 88,
   "id": "3871a9c3",
   "metadata": {},
   "outputs": [
    {
     "data": {
      "text/plain": [
       "16"
      ]
     },
     "execution_count": 88,
     "metadata": {},
     "output_type": "execute_result"
    }
   ],
   "source": [
    "highest_total_scorer_ound"
   ]
  },
  {
   "cell_type": "markdown",
   "id": "103a9592",
   "metadata": {},
   "source": [
    "Financial Portfolio Analysis"
   ]
  },
  {
   "cell_type": "code",
   "execution_count": 89,
   "id": "70592c10",
   "metadata": {},
   "outputs": [
    {
     "data": {
      "text/plain": [
       "array([-0.15710292,  0.14693031, -0.11058017,  0.65908172,  0.97625376,\n",
       "        0.94147998, -0.02241212,  1.06959665, -0.67390103,  0.26145434,\n",
       "        0.41724281,  0.20696546, -0.24069148,  0.0548523 , -0.43383101,\n",
       "       -0.15862752, -0.15235866, -0.12334247,  0.72438951,  0.4418869 ,\n",
       "       -0.19881193, -0.22925297, -0.10824404,  0.31176844, -0.11887717,\n",
       "        0.26997491, -0.17377332, -0.09354587,  0.16286278, -0.14541745,\n",
       "        0.08683374,  0.02350369, -0.12078016, -0.46191594,  0.0680416 ,\n",
       "        0.1783508 , -0.4333544 , -0.34125423, -0.41393265,  0.0436247 ])"
      ]
     },
     "execution_count": 89,
     "metadata": {},
     "output_type": "execute_result"
    }
   ],
   "source": [
    "# 4 assets, 30 days)\n",
    "Return = np.random.randn(6, 40)\n",
    "\n",
    "Overall_daily_return = np.mean(Return, axis=0)\n",
    "\n",
    "# Asset with highest volatility\n",
    "Highest_volatility_asset = np.argmax(np.std(Return, axis=1))\n",
    "\n",
    "Overall_daily_return"
   ]
  },
  {
   "cell_type": "code",
   "execution_count": 90,
   "id": "8b172db4",
   "metadata": {},
   "outputs": [
    {
     "data": {
      "text/plain": [
       "4"
      ]
     },
     "execution_count": 90,
     "metadata": {},
     "output_type": "execute_result"
    }
   ],
   "source": [
    "Highest_volatility_asset"
   ]
  }
 ],
 "metadata": {
  "kernelspec": {
   "display_name": "Python 3",
   "language": "python",
   "name": "python3"
  },
  "language_info": {
   "codemirror_mode": {
    "name": "ipython",
    "version": 3
   },
   "file_extension": ".py",
   "mimetype": "text/x-python",
   "name": "python",
   "nbconvert_exporter": "python",
   "pygments_lexer": "ipython3",
   "version": "3.8.8"
  }
 },
 "nbformat": 4,
 "nbformat_minor": 5
}
