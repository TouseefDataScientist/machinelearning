{
 "cells": [
  {
   "cell_type": "code",
   "execution_count": null,
   "metadata": {},
   "outputs": [],
   "source": [
    "import numpy as np"
   ]
  },
  {
   "cell_type": "code",
   "execution_count": 37,
   "metadata": {},
   "outputs": [
    {
     "name": "stdout",
     "output_type": "stream",
     "text": [
      "[[ 605.96037198 1043.06309016 4727.78476084 3125.42130432 1629.38571041\n",
      "  9425.83408671 4400.83479366 5776.08109651 8010.02308916 1394.72355596\n",
      "  5645.74308412 3039.73557666 9181.1707401  8375.65751884 8934.09242099\n",
      "  1174.49388272 4130.4007013  8322.07082796 1864.79640851 5697.48712921\n",
      "  6051.52583408 5564.01660081 8474.69728311  782.45091697 6918.49436595\n",
      "  3648.97243454 8681.65304684 8851.78356231 5711.5308308  7960.54676984]]\n",
      "Total Sale: 159150.43179536535\n",
      "Average Sale: 5305.014393178845\n",
      "Highest Sale: 9425.834086714793\n"
     ]
    }
   ],
   "source": [
    "# Sales Data Analysis: You have a NumPy array representing the daily sales of a product over a month. Each element in the array represents the sales for a particular day. Compute the total sales, average sales, and the day with the highest sales.\n",
    "sales_data = np.array(np.random.rand(1, 30)*10000)\n",
    "\n",
    "total_sale = sales_data.sum()\n",
    "average_sale = sales_data.mean()\n",
    "highest_sale = sales_data.max()\n",
    "\n",
    "print(sales_data)\n",
    "\n",
    "print(\"Total Sale: \" + str(total_sale))\n",
    "print(\"Average Sale: \" + str(average_sale))\n",
    "print(\"Highest Sale: \" + str(highest_sale))"
   ]
  },
  {
   "cell_type": "code",
   "execution_count": 38,
   "metadata": {},
   "outputs": [
    {
     "name": "stdout",
     "output_type": "stream",
     "text": [
      "Average temperature each day: 38.07142857142857\n"
     ]
    }
   ],
   "source": [
    "# Weather Data Processing: Given a 2D NumPy array where each row represents daily temperature readings for a week (7 days), find the average temperature for each day across all weeks.\n",
    "weather_data = np.array([[34, 21, 45, 23, 45, 34, 54], [35, 43, 37, 38, 53, 47, 24]])\n",
    "average_temp = weather_data.mean()\n",
    "\n",
    "print(\"Average temperature each day: \" + str(average_temp))"
   ]
  },
  {
   "cell_type": "code",
   "execution_count": 39,
   "metadata": {},
   "outputs": [
    {
     "name": "stdout",
     "output_type": "stream",
     "text": [
      "[983.86678625 649.04728031 153.23156061 203.24495022 547.51103793\n",
      " 896.25193931 480.27829197 650.62586096 819.26733556  66.4972351\n",
      " 307.99396424 285.11201667 473.25550561  85.18016609  55.20041791\n",
      " 822.0962584  397.47758504  58.16008771 906.28754038 385.78577395\n",
      " 448.59447182 959.5621173  715.76148798 906.31393951 153.5387919\n",
      " 467.05708003 587.85837357 125.91303945 269.46539932 144.47665182]\n",
      "[[983.86678625 649.04728031 153.23156061 203.24495022 547.51103793\n",
      "  896.25193931 480.27829197 650.62586096 819.26733556  66.4972351\n",
      "  307.99396424 285.11201667 473.25550561  85.18016609  55.20041791\n",
      "  822.0962584  397.47758504  58.16008771 906.28754038 385.78577395\n",
      "  448.59447182 959.5621173  715.76148798 906.31393951 153.5387919\n",
      "  467.05708003 587.85837357 125.91303945 269.46539932 144.47665182]]\n"
     ]
    }
   ],
   "source": [
    "# Financial Analysis: You have a NumPy array representing the daily closing prices of a stock for a month. Calculate the monthly return, which is the percentage change from the first to the last day of the month.\n",
    "financial_data = np.array(np.random.rand(1, 30)*1000)\n",
    "first_price = financial_data[0]\n",
    "last_price = financial_data[-1]\n",
    "print(last_price)\n",
    "print(financial_data)"
   ]
  },
  {
   "cell_type": "code",
   "execution_count": null,
   "metadata": {},
   "outputs": [],
   "source": []
  }
 ],
 "metadata": {
  "kernelspec": {
   "display_name": "Python 3",
   "language": "python",
   "name": "python3"
  },
  "language_info": {
   "codemirror_mode": {
    "name": "ipython",
    "version": 3
   },
   "file_extension": ".py",
   "mimetype": "text/x-python",
   "name": "python",
   "nbconvert_exporter": "python",
   "pygments_lexer": "ipython3",
   "version": "3.12.3"
  }
 },
 "nbformat": 4,
 "nbformat_minor": 2
}
