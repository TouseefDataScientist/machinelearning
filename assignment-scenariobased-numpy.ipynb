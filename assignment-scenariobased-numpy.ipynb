{
 "cells": [
  {
   "cell_type": "code",
   "execution_count": 1,
   "metadata": {},
   "outputs": [],
   "source": [
    "import numpy as np"
   ]
  },
  {
   "cell_type": "code",
   "execution_count": 2,
   "metadata": {},
   "outputs": [
    {
     "name": "stdout",
     "output_type": "stream",
     "text": [
      "[[8598.00342259 2337.60526878 6770.09925513 5692.36508403 7307.25329534\n",
      "  5917.32667499 9160.44725652 2516.83438776  280.39256202 1548.836186\n",
      "  9568.88465696 5704.76573192 9916.86845851  278.26496027 9198.54138381\n",
      "  2024.97248419 2792.19739494 4372.10964816 6950.89043895 9946.41597969\n",
      "  9080.39413341 1899.51957507 3145.23472473  258.8652235  9048.12326444\n",
      "  2615.17777873 5732.06372792 5846.71944986 3899.47069023 6477.38083333]]\n",
      "Total Sale: 158886.0239317984\n",
      "Average Sale: 5296.200797726614\n",
      "Highest Sale: 9946.415979691892\n"
     ]
    }
   ],
   "source": [
    "# Sales Data Analysis: You have a NumPy array representing the daily sales of a product over a month. Each element in the array represents the sales for a particular day. Compute the total sales, average sales, and the day with the highest sales.\n",
    "sales_data = np.array(np.random.rand(1, 30)*10000)\n",
    "\n",
    "total_sale = sales_data.sum()\n",
    "average_sale = sales_data.mean()\n",
    "highest_sale = sales_data.max()\n",
    "\n",
    "print(sales_data)\n",
    "\n",
    "print(\"Total Sale: \" + str(total_sale))\n",
    "print(\"Average Sale: \" + str(average_sale))\n",
    "print(\"Highest Sale: \" + str(highest_sale))"
   ]
  },
  {
   "cell_type": "code",
   "execution_count": 3,
   "metadata": {},
   "outputs": [
    {
     "name": "stdout",
     "output_type": "stream",
     "text": [
      "Average temperature each day: 38.07142857142857\n"
     ]
    }
   ],
   "source": [
    "# Weather Data Processing: Given a 2D NumPy array where each row represents daily temperature readings for a week (7 days), find the average temperature for each day across all weeks.\n",
    "weather_data = np.array([[34, 21, 45, 23, 45, 34, 54], [35, 43, 37, 38, 53, 47, 24]])\n",
    "average_temp = weather_data.mean()\n",
    "\n",
    "print(\"Average temperature each day: \" + str(average_temp))"
   ]
  },
  {
   "cell_type": "code",
   "execution_count": 11,
   "metadata": {},
   "outputs": [
    {
     "name": "stdout",
     "output_type": "stream",
     "text": [
      "210.13\n"
     ]
    }
   ],
   "source": [
    "# Financial Analysis: You have a NumPy array representing the daily closing prices of a stock for a month. Calculate the monthly return, which is the percentage change from the first to the last day of the month.\n",
    "financial_data = np.array([12232, 12345, 43535, 53422, 23424, 64523, 34543, 24241, 46434, 64342, 103443, 93434, 113442, 102343, 104434, 92343, 53215, 43454, 43453, 69342, 74342, 33434, 53234, 43245, 52423, 52346, 62342, 56233, 63423, 33245])\n",
    "first_price = financial_data[0]\n",
    "last_price = financial_data[29]\n",
    "monthly_return = ((last_price - first_price) / 100)\n",
    "\n",
    "print(monthly_return)"
   ]
  },
  {
   "cell_type": "code",
   "execution_count": null,
   "metadata": {},
   "outputs": [],
   "source": []
  }
 ],
 "metadata": {
  "kernelspec": {
   "display_name": "Python 3",
   "language": "python",
   "name": "python3"
  },
  "language_info": {
   "codemirror_mode": {
    "name": "ipython",
    "version": 3
   },
   "file_extension": ".py",
   "mimetype": "text/x-python",
   "name": "python",
   "nbconvert_exporter": "python",
   "pygments_lexer": "ipython3",
   "version": "3.12.3"
  }
 },
 "nbformat": 4,
 "nbformat_minor": 2
}
